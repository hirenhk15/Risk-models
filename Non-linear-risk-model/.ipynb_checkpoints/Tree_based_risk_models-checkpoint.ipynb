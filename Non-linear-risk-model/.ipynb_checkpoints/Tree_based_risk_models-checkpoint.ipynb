{
 "cells": [
  {
   "cell_type": "markdown",
   "metadata": {},
   "source": [
    "# Tree-based Risk Models"
   ]
  },
  {
   "cell_type": "markdown",
   "metadata": {},
   "source": [
    "In this case study, I am going to build tree based models by predicting the 10-year risk of death of an individuals from the NHANES I epidemiology dataset (for a detailed description of this dataset is given at the [CDC Website](https://wwwn.cdc.gov/nchs/nhanes/nhefs/default.aspx/))."
   ]
  },
  {
   "cell_type": "markdown",
   "metadata": {},
   "source": [
    "The following skils are used to build models:\n",
    "\n",
    "- Dealing with Missing Data\n",
    "  - Complete Case Analysis.\n",
    "  - Imputation\n",
    "- Decision Trees\n",
    "  - Evaluation.\n",
    "  - Regularization.\n",
    "- Random Forests \n",
    "  - Hyperparameter Tuning."
   ]
  },
  {
   "cell_type": "markdown",
   "metadata": {},
   "source": [
    "## 1. Import necessary packages"
   ]
  },
  {
   "cell_type": "code",
   "execution_count": 1,
   "metadata": {},
   "outputs": [
    {
     "name": "stderr",
     "output_type": "stream",
     "text": [
      "The module is deprecated in version 0.21 and will be removed in version 0.23 since we've dropped support for Python 2.7. Please rely on the official version of six (https://pypi.org/project/six/).\n"
     ]
    }
   ],
   "source": [
    "import shap\n",
    "import sklearn\n",
    "import itertools\n",
    "import pydotplus\n",
    "import numpy as np\n",
    "import pandas as pd\n",
    "import seaborn as sns\n",
    "import matplotlib.pyplot as plt\n",
    "\n",
    "from IPython.display import Image\n",
    "from sklearn.tree import export_graphviz\n",
    "from sklearn.externals.six import StringIO\n",
    "from sklearn.tree import DecisionTreeClassifier\n",
    "from sklearn.ensemble import RandomForestClassifier\n",
    "from sklearn.model_selection import train_test_split\n",
    "from sklearn.experimental import enable_iterative_imputer\n",
    "from sklearn.impute import IterativeImputer, SimpleImputer\n",
    "from util import load_data, cindex"
   ]
  },
  {
   "cell_type": "markdown",
   "metadata": {},
   "source": [
    "## 2. Exploring data"
   ]
  },
  {
   "cell_type": "markdown",
   "metadata": {},
   "source": [
    "Load the NHANES I epidemiology dataset. This dataset contains various features of hospital patients as well as their outcomes, i.e. whether or not they died within 10 years."
   ]
  },
  {
   "cell_type": "code",
   "execution_count": 2,
   "metadata": {},
   "outputs": [
    {
     "name": "stderr",
     "output_type": "stream",
     "text": [
      "\n",
      "A value is trying to be set on a copy of a slice from a DataFrame.\n",
      "Try using .loc[row_indexer,col_indexer] = value instead\n",
      "\n",
      "See the caveats in the documentation: https://pandas.pydata.org/pandas-docs/stable/user_guide/indexing.html#returning-a-view-versus-a-copy\n"
     ]
    }
   ],
   "source": [
    "X_dev, X_test, y_dev, y_test = load_data(10)"
   ]
  },
  {
   "cell_type": "markdown",
   "metadata": {},
   "source": [
    "The dataset has been split into a development set (or dev set), which we will use to develop our risk models, and a test set, which we will use to test our models. Further, dev set will be split into a training and validation set, respectively to train and tune our models, using a 75/25 split."
   ]
  },
  {
   "cell_type": "code",
   "execution_count": 3,
   "metadata": {},
   "outputs": [],
   "source": [
    "X_train, X_val, y_train, y_val = train_test_split(X_dev, y_dev, test_size=0.25, random_state=10)"
   ]
  },
  {
   "cell_type": "code",
   "execution_count": 4,
   "metadata": {},
   "outputs": [
    {
     "name": "stdout",
     "output_type": "stream",
     "text": [
      "The size of X_train (5147, 18)\n"
     ]
    },
    {
     "data": {
      "text/html": [
       "<div>\n",
       "<style scoped>\n",
       "    .dataframe tbody tr th:only-of-type {\n",
       "        vertical-align: middle;\n",
       "    }\n",
       "\n",
       "    .dataframe tbody tr th {\n",
       "        vertical-align: top;\n",
       "    }\n",
       "\n",
       "    .dataframe thead th {\n",
       "        text-align: right;\n",
       "    }\n",
       "</style>\n",
       "<table border=\"1\" class=\"dataframe\">\n",
       "  <thead>\n",
       "    <tr style=\"text-align: right;\">\n",
       "      <th></th>\n",
       "      <th>Age</th>\n",
       "      <th>Diastolic BP</th>\n",
       "      <th>Poverty index</th>\n",
       "      <th>Race</th>\n",
       "      <th>Red blood cells</th>\n",
       "      <th>Sedimentation rate</th>\n",
       "      <th>Serum Albumin</th>\n",
       "      <th>Serum Cholesterol</th>\n",
       "      <th>Serum Iron</th>\n",
       "      <th>Serum Magnesium</th>\n",
       "      <th>Serum Protein</th>\n",
       "      <th>Sex</th>\n",
       "      <th>Systolic BP</th>\n",
       "      <th>TIBC</th>\n",
       "      <th>TS</th>\n",
       "      <th>White blood cells</th>\n",
       "      <th>BMI</th>\n",
       "      <th>Pulse pressure</th>\n",
       "    </tr>\n",
       "  </thead>\n",
       "  <tbody>\n",
       "    <tr>\n",
       "      <th>1599</th>\n",
       "      <td>43.0</td>\n",
       "      <td>84.0</td>\n",
       "      <td>637.0</td>\n",
       "      <td>1.0</td>\n",
       "      <td>49.3</td>\n",
       "      <td>10.0</td>\n",
       "      <td>5.0</td>\n",
       "      <td>253.0</td>\n",
       "      <td>134.0</td>\n",
       "      <td>1.59</td>\n",
       "      <td>7.7</td>\n",
       "      <td>1.0</td>\n",
       "      <td>NaN</td>\n",
       "      <td>490.0</td>\n",
       "      <td>27.3</td>\n",
       "      <td>9.1</td>\n",
       "      <td>25.803007</td>\n",
       "      <td>34.0</td>\n",
       "    </tr>\n",
       "    <tr>\n",
       "      <th>2794</th>\n",
       "      <td>72.0</td>\n",
       "      <td>96.0</td>\n",
       "      <td>154.0</td>\n",
       "      <td>2.0</td>\n",
       "      <td>43.4</td>\n",
       "      <td>23.0</td>\n",
       "      <td>4.3</td>\n",
       "      <td>265.0</td>\n",
       "      <td>106.0</td>\n",
       "      <td>1.66</td>\n",
       "      <td>6.8</td>\n",
       "      <td>2.0</td>\n",
       "      <td>208.0</td>\n",
       "      <td>301.0</td>\n",
       "      <td>35.2</td>\n",
       "      <td>6.0</td>\n",
       "      <td>33.394319</td>\n",
       "      <td>112.0</td>\n",
       "    </tr>\n",
       "    <tr>\n",
       "      <th>1182</th>\n",
       "      <td>54.0</td>\n",
       "      <td>78.0</td>\n",
       "      <td>205.0</td>\n",
       "      <td>1.0</td>\n",
       "      <td>43.8</td>\n",
       "      <td>12.0</td>\n",
       "      <td>4.2</td>\n",
       "      <td>206.0</td>\n",
       "      <td>180.0</td>\n",
       "      <td>1.67</td>\n",
       "      <td>6.6</td>\n",
       "      <td>2.0</td>\n",
       "      <td>NaN</td>\n",
       "      <td>363.0</td>\n",
       "      <td>49.6</td>\n",
       "      <td>5.9</td>\n",
       "      <td>20.278410</td>\n",
       "      <td>34.0</td>\n",
       "    </tr>\n",
       "    <tr>\n",
       "      <th>6915</th>\n",
       "      <td>59.0</td>\n",
       "      <td>90.0</td>\n",
       "      <td>417.0</td>\n",
       "      <td>1.0</td>\n",
       "      <td>43.4</td>\n",
       "      <td>9.0</td>\n",
       "      <td>4.5</td>\n",
       "      <td>327.0</td>\n",
       "      <td>114.0</td>\n",
       "      <td>1.65</td>\n",
       "      <td>7.6</td>\n",
       "      <td>2.0</td>\n",
       "      <td>NaN</td>\n",
       "      <td>347.0</td>\n",
       "      <td>32.9</td>\n",
       "      <td>6.1</td>\n",
       "      <td>32.917744</td>\n",
       "      <td>78.0</td>\n",
       "    </tr>\n",
       "    <tr>\n",
       "      <th>500</th>\n",
       "      <td>34.0</td>\n",
       "      <td>80.0</td>\n",
       "      <td>385.0</td>\n",
       "      <td>1.0</td>\n",
       "      <td>77.7</td>\n",
       "      <td>9.0</td>\n",
       "      <td>4.1</td>\n",
       "      <td>197.0</td>\n",
       "      <td>64.0</td>\n",
       "      <td>1.74</td>\n",
       "      <td>7.3</td>\n",
       "      <td>2.0</td>\n",
       "      <td>NaN</td>\n",
       "      <td>376.0</td>\n",
       "      <td>17.0</td>\n",
       "      <td>8.2</td>\n",
       "      <td>30.743489</td>\n",
       "      <td>30.0</td>\n",
       "    </tr>\n",
       "  </tbody>\n",
       "</table>\n",
       "</div>"
      ],
      "text/plain": [
       "       Age  Diastolic BP  Poverty index  Race  Red blood cells  \\\n",
       "1599  43.0          84.0          637.0   1.0             49.3   \n",
       "2794  72.0          96.0          154.0   2.0             43.4   \n",
       "1182  54.0          78.0          205.0   1.0             43.8   \n",
       "6915  59.0          90.0          417.0   1.0             43.4   \n",
       "500   34.0          80.0          385.0   1.0             77.7   \n",
       "\n",
       "      Sedimentation rate  Serum Albumin  Serum Cholesterol  Serum Iron  \\\n",
       "1599                10.0            5.0              253.0       134.0   \n",
       "2794                23.0            4.3              265.0       106.0   \n",
       "1182                12.0            4.2              206.0       180.0   \n",
       "6915                 9.0            4.5              327.0       114.0   \n",
       "500                  9.0            4.1              197.0        64.0   \n",
       "\n",
       "      Serum Magnesium  Serum Protein  Sex  Systolic BP   TIBC    TS  \\\n",
       "1599             1.59            7.7  1.0          NaN  490.0  27.3   \n",
       "2794             1.66            6.8  2.0        208.0  301.0  35.2   \n",
       "1182             1.67            6.6  2.0          NaN  363.0  49.6   \n",
       "6915             1.65            7.6  2.0          NaN  347.0  32.9   \n",
       "500              1.74            7.3  2.0          NaN  376.0  17.0   \n",
       "\n",
       "      White blood cells        BMI  Pulse pressure  \n",
       "1599                9.1  25.803007            34.0  \n",
       "2794                6.0  33.394319           112.0  \n",
       "1182                5.9  20.278410            34.0  \n",
       "6915                6.1  32.917744            78.0  \n",
       "500                 8.2  30.743489            30.0  "
      ]
     },
     "execution_count": 4,
     "metadata": {},
     "output_type": "execute_result"
    }
   ],
   "source": [
    "print(f\"The size of X_train {X_train.shape}\")\n",
    "X_train.head()"
   ]
  },
  {
   "cell_type": "markdown",
   "metadata": {},
   "source": [
    "`y` will be whether or not the target died within 10 years."
   ]
  },
  {
   "cell_type": "code",
   "execution_count": 5,
   "metadata": {},
   "outputs": [
    {
     "data": {
      "text/plain": [
       "1599    False\n",
       "2794     True\n",
       "1182    False\n",
       "6915    False\n",
       "500     False\n",
       "Name: time, dtype: bool"
      ]
     },
     "execution_count": 5,
     "metadata": {},
     "output_type": "execute_result"
    }
   ],
   "source": [
    "y_train.head()"
   ]
  },
  {
   "cell_type": "markdown",
   "metadata": {},
   "source": [
    "Let's see one of the examples and its outcome:"
   ]
  },
  {
   "cell_type": "code",
   "execution_count": 7,
   "metadata": {},
   "outputs": [
    {
     "name": "stdout",
     "output_type": "stream",
     "text": [
      "Age                    67.000000\n",
      "Diastolic BP           94.000000\n",
      "Poverty index         114.000000\n",
      "Race                    1.000000\n",
      "Red blood cells        43.800000\n",
      "Sedimentation rate     12.000000\n",
      "Serum Albumin           3.700000\n",
      "Serum Cholesterol     178.000000\n",
      "Serum Iron             73.000000\n",
      "Serum Magnesium         1.850000\n",
      "Serum Protein           7.000000\n",
      "Sex                     1.000000\n",
      "Systolic BP           140.000000\n",
      "TIBC                  311.000000\n",
      "TS                     23.500000\n",
      "White blood cells       4.300000\n",
      "BMI                    17.481227\n",
      "Pulse pressure         46.000000\n",
      "Name: 5856, dtype: float64\n",
      "\n",
      "Died within 10 years? True\n"
     ]
    }
   ],
   "source": [
    "i = 10\n",
    "print(X_train.iloc[i,:])\n",
    "print(\"\\nDied within 10 years? {}\".format(y_train.loc[y_train.index[i]]))"
   ]
  },
  {
   "cell_type": "markdown",
   "metadata": {},
   "source": [
    "#### a. Dealing with missing values\n",
    "As we can see by looking at our data in `X_train`, that some of the data is missing which are marked as `NaN` (\"not a number\"). Missing data is a common occurrence in data analysis, that can be due to many reasons, such as measuring instrument malfunction, respondents not willing or not able to supply information, and errors in the data collection process.\n",
    "\n",
    "Let's examine the missing data pattern by ploting `heatmap` of `X_train` and `X_val` to easily visualize the missing data pattern."
   ]
  },
  {
   "cell_type": "code",
   "execution_count": 11,
   "metadata": {},
   "outputs": [
    {
     "data": {
      "image/png": "[encoded data removed]",
      "text/plain": [
       "<Figure size 432x288 with 1 Axes>"
      ]
     },
     "metadata": {
      "needs_background": "light"
     },
     "output_type": "display_data"
    },
    {
     "data": {
      "image/png": "[encoded data removed]",
      "text/plain": [
       "<Figure size 432x288 with 1 Axes>"
      ]
     },
     "metadata": {
      "needs_background": "light"
     },
     "output_type": "display_data"
    }
   ],
   "source": [
    "sns.heatmap(X_train.isnull(), cbar=False)\n",
    "plt.title(\"Training\")\n",
    "plt.show()\n",
    "\n",
    "sns.heatmap(X_val.isnull(), cbar=False)\n",
    "plt.title(\"Validation\")\n",
    "plt.show()"
   ]
  },
  {
   "cell_type": "code",
   "execution_count": null,
   "metadata": {},
   "outputs": [],
   "source": []
  }
 ],
 "metadata": {
  "kernelspec": {
   "display_name": "Python 3",
   "language": "python",
   "name": "python3"
  },
  "language_info": {
   "codemirror_mode": {
    "name": "ipython",
    "version": 3
   },
   "file_extension": ".py",
   "mimetype": "text/x-python",
   "name": "python",
   "nbconvert_exporter": "python",
   "pygments_lexer": "ipython3",
   "version": "3.6.10"
  }
 },
 "nbformat": 4,
 "nbformat_minor": 4
}
